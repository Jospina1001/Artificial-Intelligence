{
  "nbformat": 4,
  "nbformat_minor": 0,
  "metadata": {
    "colab": {
      "provenance": []
    },
    "kernelspec": {
      "name": "python3",
      "display_name": "Python 3"
    },
    "language_info": {
      "name": "python"
    }
  },
  "cells": [
    {
      "cell_type": "markdown",
      "source": [
        "# Recursos:"
      ],
      "metadata": {
        "id": "JXEWWAhHvujU"
      }
    },
    {
      "cell_type": "code",
      "execution_count": 151,
      "metadata": {
        "id": "Ba6cMUDEvgKP"
      },
      "outputs": [],
      "source": [
        "%reset -f\n",
        "import math\n",
        "import random\n",
        "import numpy as np \n",
        "import seaborn as sn \n",
        "import matplotlib.pyplot as plt \n",
        "\n",
        "global estados_visitados\n",
        "estados_visitados=list()\n",
        "\n",
        "global obstaculos\n",
        "obstaculos=list()\n",
        "\n",
        "class SearchProblem(object):\n",
        "    \"\"\"The abstract class for a formal problem. A new domain subclasses this,\n",
        "    overriding `actions` and `results`, and perhaps other methods.\n",
        "    The default heuristic is 0 and the default action cost is 1 for all states.\n",
        "    When you create an instance of a subclass, specify `initial`, and `goal` states \n",
        "    (or give an `is_goal` method) and perhaps other keyword args for the subclass.\"\"\"\n",
        "\n",
        "    def __init__(self, initial, goal=None, **kwds): \n",
        "        \"\"\"The constructor specifies the initial state, and possibly a goal\n",
        "        state, if there is a unique goal. Your subclass's constructor can add\n",
        "        other arguments.\"\"\"\n",
        "        self.initial = initial\n",
        "        self.goal = goal\n",
        "\n",
        "        \n",
        "    def actions(self, node):\n",
        "        \"\"\"Return the actions that can be executed in the given\n",
        "        state. The result would typically be a list, but if there are\n",
        "        many actions, consider yielding them one at a time in an\n",
        "        iterator, rather than building them all at once.\"\"\"        \n",
        "        raise NotImplementedError\n",
        "        \n",
        "    def result(self, node, action): \n",
        "        \"\"\"Return the state that results from executing the given\n",
        "        action in the given state. The action must be one of\n",
        "        self.actions(state).\"\"\"\n",
        "        raise NotImplementedError\n",
        "        \n",
        "    def is_goal(self, node): \n",
        "        \"\"\"Return True if the state is a goal. The default method compares the\n",
        "        state to self.goal or checks for state in self.goal if it is a\n",
        "        list, as specified in the constructor. Override this method if\n",
        "        checking against a single self.goal is not enough.\"\"\"      \n",
        "        return self.goal == node\n",
        "    \n",
        "    def action_cost(self, s, a, s1): \n",
        "        \"\"\"Return the cost of a solution path that arrives at state s1 from\n",
        "        state s via action a. If the problem\n",
        "        is such that the path doesn't matter, this function will only look at\n",
        "        state s1.  If the path does matter, it will consider state s1\n",
        "        and action a. The default method costs 1 for every step in the path.\"\"\"\n",
        "        return 1\n",
        "\n",
        "    def h(self, node):\n",
        "     raise NotImplementedError \n",
        "     \n",
        "    def g(self, node):\n",
        "     return node.path_cost()\n",
        "\n",
        "    def f(self, node):\n",
        "     return self.g(node) + self.h(node)"
      ]
    },
    {
      "cell_type": "code",
      "source": [
        "class Node:\n",
        "    def __init__(self, state='', parent=None, action=None, cost=1):\n",
        "        self.state = state\n",
        "        self.parent = parent\n",
        "        self.action = action\n",
        "\n",
        "    def states_path(self):\n",
        "        if self.parent == None:\n",
        "            return [self]\n",
        "        return self.parent.states_path() + [self]\n",
        "    \n",
        "    def actions_path(self):\n",
        "        if self.parent == None:\n",
        "            return []\n",
        "        return self.parent.actions_path() + [self.action]        \n",
        "\n",
        "    def __eq__(self, node):\n",
        "        if node:\n",
        "            return self.state == node.state\n",
        "        return False    \n",
        "\n",
        "    def path_cost(self):\n",
        "        total_cost = 0\n",
        "        if self.parent is None:\n",
        "            return total_cost\n",
        "        total_cost += self.cost + self.parent.path_cost()\n",
        "        return total_cost \n",
        "\n",
        "    def __repr__(self):\n",
        "        return self.state"
      ],
      "metadata": {
        "id": "tzhC8akLv4sQ"
      },
      "execution_count": 152,
      "outputs": []
    },
    {
      "cell_type": "code",
      "source": [
        "import heapq\n",
        "class PriorityQueue:\n",
        "    \"\"\"\n",
        "      Implements a priority queue data structure. Each inserted item\n",
        "      has a priority associated with it and the client is usually interested\n",
        "      in quick retrieval of the lowest-priority item in the queue. This\n",
        "      data structure allows O(1) access to the lowest-priority item.\n",
        "    \"\"\"\n",
        "    def  __init__(self):\n",
        "        self.heap = []\n",
        "        self.count = 0\n",
        "\n",
        "    def push(self, item, priority):\n",
        "        entry = (priority, self.count, item)\n",
        "        heapq.heappush(self.heap, entry)\n",
        "        self.count += 1\n",
        "\n",
        "    def pop(self):\n",
        "        (_, _, item) = heapq.heappop(self.heap)\n",
        "        return item\n",
        "\n",
        "    def isEmpty(self):\n",
        "        return len(self.heap) == 0\n",
        "\n",
        "    def update(self, item, priority):\n",
        "        # If item already in priority queue with higher priority, update its priority and rebuild the heap.\n",
        "        # If item already in priority queue with equal or lower priority, do nothing.\n",
        "        # If item not in priority queue, do the same thing as self.push.\n",
        "        for index, (p, c, i) in enumerate(self.heap):\n",
        "            if i == item:\n",
        "                if p <= priority:\n",
        "                    break\n",
        "                del self.heap[index]\n",
        "                self.heap.append((priority, c, item))\n",
        "                heapq.heapify(self.heap)\n",
        "                break\n",
        "        else:\n",
        "            self.push(item, priority)"
      ],
      "metadata": {
        "id": "lGAUy2u8v7yl"
      },
      "execution_count": 153,
      "outputs": []
    },
    {
      "cell_type": "code",
      "source": [
        "def expand(problem, node):\n",
        "    childs = []\n",
        "    for action in problem.actions(node):\n",
        "        childs.append(problem.result(node, action))\n",
        "    return childs\n",
        "\n",
        "def VORAZ(problem, fringe=PriorityQueue()):\n",
        "    closed = []\n",
        "    fringe.push(problem.initial, 0)\n",
        "\n",
        "    while(True):\n",
        "        node = fringe.pop()\n",
        "        if problem.is_goal(node): \n",
        "            return node\n",
        "        if node not in closed: \n",
        "            closed.append(node)\n",
        "            for child in expand(problem, node):\n",
        "                fringe.push(child, problem.h(child))\n",
        "\n",
        "def UCS(problem, fringe=PriorityQueue()):\n",
        "    closed = []\n",
        "    fringe.push(problem.initial, 0)\n",
        "\n",
        "    while(True):\n",
        "        node = fringe.pop()\n",
        "        if problem.is_goal(node): \n",
        "            return node\n",
        "        if node not in closed: \n",
        "            closed.append(node)\n",
        "            for child in expand(problem, node):\n",
        "                fringe.push(child, problem.g(child))\n",
        "\n",
        "def A(problem, fringe=PriorityQueue()):\n",
        "    closed = []\n",
        "    fringe.push(problem.initial, 0)\n",
        "\n",
        "    while(True):\n",
        "        node = fringe.pop()\n",
        "        if problem.is_goal(node): \n",
        "            return node\n",
        "        if node not in closed: \n",
        "            closed.append(node)\n",
        "            for child in expand(problem, node):\n",
        "                fringe.push(child, problem.f(child))"
      ],
      "metadata": {
        "id": "Quh-GOy3v9__"
      },
      "execution_count": 154,
      "outputs": []
    },
    {
      "cell_type": "markdown",
      "source": [
        "# Punto 2: modelado para un problema especifico\n",
        "![image.png](data:image/png;base64,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)\n",
        "\n",
        "Tomaremos el inicio como 0,0 y la meta como 5,5"
      ],
      "metadata": {
        "id": "mbUVSIJJwAeX"
      }
    },
    {
      "cell_type": "code",
      "source": [
        "class laberinto(SearchProblem):\n",
        "  'Simple Graph as a search problem'\n",
        "\n",
        "  def actions(self, node):\n",
        "\n",
        "    posicion=list()\n",
        "    movimientos=list()\n",
        "    frontera=list()\n",
        "      \n",
        "    posicion=node.state.split(',')\n",
        "    posicion[0]=int(posicion[0]) #X\n",
        "    posicion[1]=int(posicion[1]) #Y\n",
        "\n",
        "    movimientos=[[-1,-1],[ 0,-1],[1,-1],\n",
        "                  [-1, 0],        [1, 0],\n",
        "                  [-1, 1],[ 0, 1],[1, 1]]\n",
        "\n",
        "    if posicion not in estados_visitados:\n",
        "      res=1\n",
        "      estados_visitados.append(posicion)\n",
        "    else:\n",
        "      res=0\n",
        "    \n",
        "    if res==1:\n",
        "      for i in range(len(movimientos)):\n",
        "\n",
        "        X=posicion[0]+movimientos[i][0]\n",
        "        Y=posicion[1]+movimientos[i][1]\n",
        "        mov=[X,Y]\n",
        "\n",
        "        if mov not in obstaculos:\n",
        "          if 0<=X<=5 and 0<=Y<=5:\n",
        "            data='move-'+str(X)+','+str(Y)\n",
        "            if(data not in frontera):\n",
        "              frontera.append(data)\n",
        "    else:\n",
        "      frontera=[]\n",
        "    \n",
        "    actions = {\n",
        "                node.state: frontera,\n",
        "        }\n",
        "    return actions[node.state]       \n",
        "\n",
        "  def result(self, node, action):\n",
        "\n",
        "    new_state=dict()\n",
        "    action_result=action[5:]\n",
        "    \n",
        "    for i in action:\n",
        "      new_state[action]=action_result\n",
        "\n",
        "    new_node = Node(new_state[action], node, action)\n",
        "    new_cost = self.action_cost(node,action,new_node)\n",
        "    new_node.cost = new_cost\n",
        "    return new_node     \n",
        "\n",
        "  def action_cost(self, node, action, succesor):\n",
        "    cost=dict()\n",
        "    cost[node.state,succesor.state]=1\n",
        "\n",
        "    return cost[(node.state, succesor.state)]\n",
        "\n",
        "  def h(self, node):\n",
        "    heuristic=dict()\n",
        "\n",
        "    goal=[0,0]\n",
        "    posicion=node.state.split(',')\n",
        "    posicion[0]=int(posicion[0]) #X\n",
        "    posicion[1]=int(posicion[1]) #Y\n",
        "\n",
        "    Euclidiana=math.sqrt((abs(-posicion[0]+goal[0])**2)+abs((-posicion[1]+goal[1])**2))\n",
        "    heuristic[node.state]=Euclidiana\n",
        "    return heuristic[node.state]  "
      ],
      "metadata": {
        "id": "NgPt-7g3wX_q"
      },
      "execution_count": 31,
      "outputs": []
    },
    {
      "cell_type": "code",
      "source": [
        "data=list()\n",
        "tamX=6\n",
        "tamY=6\n",
        "\n",
        "initial='5,5'\n",
        "goal='0,0'\n",
        "obstaculos=[[5,0],[4,2],[4,4],[3,0],[3,3],[2,3],[2,4],[1,1],[0,4]]\n",
        "\n",
        "#---------------------------Visualizacion------------------------------------#\n",
        "for i in range(tamY):\n",
        "  data.append([100]*tamX)\n",
        "\n",
        "for j in range(len(obstaculos)):\n",
        "  data[obstaculos[j][1]][obstaculos[j][0]]=80\n",
        "\n",
        "lista=initial.split(',')\n",
        "lista[0]=int(lista[0])#x\n",
        "lista[1]=int(lista[1])#Y\n",
        "data[lista[0]][lista[1]]=0\n",
        "\n",
        "lista=goal.split(',')\n",
        "lista[0]=int(lista[0])#x\n",
        "lista[1]=int(lista[1])#Y\n",
        "data[lista[0]][lista[1]]=0\n",
        "\n",
        "print(\"Estado inicial:\")\n",
        "hm = sn.heatmap(data = data) \n",
        "plt.show()\n",
        "\n",
        "#---------------------------Problema------------------------------------#\n",
        "\n",
        "S = Node(state=initial)\n",
        "G = Node(state=goal)\n",
        "Problema = laberinto(initial=S, goal=G)\n",
        "estados_visitados.clear()\n",
        "\n",
        "print('--------------UCS------------')\n",
        "solution = UCS(Problema)\n",
        "print('Action sequence:', solution.actions_path())\n",
        "print('State sequence:', solution.states_path())\n",
        "print('Costo:', Problema.g(solution))\n",
        "Nodos=len(estados_visitados)\n",
        "print('Nodos expandidos',Nodos)\n",
        "\n",
        "#---------------------Visualizacion solucion del problema--------------#\n",
        "for h in range(len(solution.states_path())):\n",
        "  if h!=0 and h!=len(solution.states_path())-1:\n",
        "    pos=str(solution.states_path()[h])\n",
        "    x=int(pos[0])\n",
        "    y=int(pos[2])\n",
        "    data[y][x]=30\n",
        "print(\"Estado final:\")\n",
        "hm = sn.heatmap(data = data) \n",
        "plt.show()\n"
      ],
      "metadata": {
        "colab": {
          "base_uri": "https://localhost:8080/",
          "height": 643
        },
        "id": "Ve6Qsnnvww-h",
        "outputId": "d64a415a-a4df-4b78-bbad-bb7bde10a496"
      },
      "execution_count": 32,
      "outputs": [
        {
          "output_type": "stream",
          "name": "stdout",
          "text": [
            "Estado inicial:\n"
          ]
        },
        {
          "output_type": "display_data",
          "data": {
            "text/plain": [
              "<Figure size 432x288 with 2 Axes>"
            ],
            "image/png": "[encoded data removed]"
          },
          "metadata": {
            "needs_background": "light"
          }
        },
        {
          "output_type": "stream",
          "name": "stdout",
          "text": [
            "--------------UCS------------\n",
            "Action sequence: ['move-5,4', 'move-4,3', 'move-3,2', 'move-2,1', 'move-1,0', 'move-0,0']\n",
            "State sequence: [5,5, 5,4, 4,3, 3,2, 2,1, 1,0, 0,0]\n",
            "Costo: 6\n",
            "Nodos expandidos 24\n",
            "Estado final:\n"
          ]
        },
        {
          "output_type": "display_data",
          "data": {
            "text/plain": [
              "<Figure size 432x288 with 2 Axes>"
            ],
            "image/png": "[encoded data removed]"
          },
          "metadata": {
            "needs_background": "light"
          }
        }
      ]
    },
    {
      "cell_type": "code",
      "source": [
        "data=list()\n",
        "tamX=6\n",
        "tamY=6\n",
        "\n",
        "initial='5,5'\n",
        "goal='0,0'\n",
        "obstaculos=[[5,0],[4,2],[4,4],[3,0],[3,3],[2,3],[2,4],[1,1],[0,4]]\n",
        "\n",
        "#---------------------------Visualizacion------------------------------------#\n",
        "for i in range(tamY):\n",
        "  data.append([100]*tamX)\n",
        "\n",
        "for j in range(len(obstaculos)):\n",
        "  data[obstaculos[j][1]][obstaculos[j][0]]=80\n",
        "\n",
        "lista=initial.split(',')\n",
        "lista[0]=int(lista[0])#x\n",
        "lista[1]=int(lista[1])#Y\n",
        "data[lista[0]][lista[1]]=0\n",
        "\n",
        "lista=goal.split(',')\n",
        "lista[0]=int(lista[0])#x\n",
        "lista[1]=int(lista[1])#Y\n",
        "data[lista[0]][lista[1]]=0\n",
        "\n",
        "print(\"Estado inicial:\")\n",
        "hm = sn.heatmap(data = data) \n",
        "plt.show()\n",
        "\n",
        "#---------------------------Problema------------------------------------#\n",
        "\n",
        "S = Node(state=initial)\n",
        "G = Node(state=goal)\n",
        "Problema = laberinto(initial=S, goal=G)\n",
        "estados_visitados.clear()\n",
        "\n",
        "print('--------------VORAZ------------')\n",
        "solution = VORAZ(Problema)\n",
        "print('Action sequence:', solution.actions_path())\n",
        "print('State sequence:', solution.states_path())\n",
        "print('Costo:', Problema.g(solution))\n",
        "Nodos=len(estados_visitados)\n",
        "print('Nodos expandidos',Nodos)\n",
        "\n",
        "#---------------------Visualizacion solucion del problema--------------#\n",
        "for h in range(len(solution.states_path())):\n",
        "  if h!=0 and h!=len(solution.states_path())-1:\n",
        "    pos=str(solution.states_path()[h])\n",
        "    x=int(pos[0])\n",
        "    y=int(pos[2])\n",
        "    data[y][x]=30\n",
        "print(\"Estado final:\")\n",
        "hm = sn.heatmap(data = data) \n",
        "plt.show()"
      ],
      "metadata": {
        "colab": {
          "base_uri": "https://localhost:8080/",
          "height": 643
        },
        "id": "XwDLhTemKI4E",
        "outputId": "b541570e-b364-47be-c1f9-46ab066f0f89"
      },
      "execution_count": 33,
      "outputs": [
        {
          "output_type": "stream",
          "name": "stdout",
          "text": [
            "Estado inicial:\n"
          ]
        },
        {
          "output_type": "display_data",
          "data": {
            "text/plain": [
              "<Figure size 432x288 with 2 Axes>"
            ],
            "image/png": "[encoded data removed]"
          },
          "metadata": {
            "needs_background": "light"
          }
        },
        {
          "output_type": "stream",
          "name": "stdout",
          "text": [
            "--------------VORAZ------------\n",
            "Action sequence: ['move-5,4', 'move-4,3', 'move-3,2', 'move-2,1', 'move-1,0', 'move-0,0']\n",
            "State sequence: [5,5, 5,4, 4,3, 3,2, 2,1, 1,0, 0,0]\n",
            "Costo: 6\n",
            "Nodos expandidos 6\n",
            "Estado final:\n"
          ]
        },
        {
          "output_type": "display_data",
          "data": {
            "text/plain": [
              "<Figure size 432x288 with 2 Axes>"
            ],
            "image/png": "[encoded data removed]"
          },
          "metadata": {
            "needs_background": "light"
          }
        }
      ]
    },
    {
      "cell_type": "code",
      "source": [
        "data=list()\n",
        "tamX=6\n",
        "tamY=6\n",
        "\n",
        "initial='5,5'\n",
        "goal='0,0'\n",
        "obstaculos=[[5,0],[4,2],[4,4],[3,0],[3,3],[2,3],[2,4],[1,1],[0,4]]\n",
        "\n",
        "#---------------------------Visualizacion------------------------------------#\n",
        "for i in range(tamY):\n",
        "  data.append([100]*tamX)\n",
        "\n",
        "for j in range(len(obstaculos)):\n",
        "  data[obstaculos[j][1]][obstaculos[j][0]]=80\n",
        "\n",
        "lista=initial.split(',')\n",
        "lista[0]=int(lista[0])#x\n",
        "lista[1]=int(lista[1])#Y\n",
        "data[lista[0]][lista[1]]=0\n",
        "\n",
        "lista=goal.split(',')\n",
        "lista[0]=int(lista[0])#x\n",
        "lista[1]=int(lista[1])#Y\n",
        "data[lista[0]][lista[1]]=0\n",
        "\n",
        "print(\"Estado inicial:\")\n",
        "hm = sn.heatmap(data = data) \n",
        "plt.show()\n",
        "\n",
        "#---------------------------Problema------------------------------------#\n",
        "\n",
        "S = Node(state=initial)\n",
        "G = Node(state=goal)\n",
        "Problema = laberinto(initial=S, goal=G)\n",
        "estados_visitados.clear()\n",
        "\n",
        "print('--------------A*------------')\n",
        "solution = A(Problema)\n",
        "print('Action sequence:', solution.actions_path())\n",
        "print('State sequence:', solution.states_path())\n",
        "print('Costo:', Problema.g(solution))\n",
        "Nodos=len(estados_visitados)\n",
        "print('Nodos expandidos',Nodos)\n",
        "\n",
        "#---------------------Visualizacion solucion del problema--------------#\n",
        "for h in range(len(solution.states_path())):\n",
        "  if h!=0 and h!=len(solution.states_path())-1:\n",
        "    pos=str(solution.states_path()[h])\n",
        "    x=int(pos[0])\n",
        "    y=int(pos[2])\n",
        "    data[y][x]=30\n",
        "print(\"Estado final:\")\n",
        "hm = sn.heatmap(data = data) \n",
        "plt.show()"
      ],
      "metadata": {
        "colab": {
          "base_uri": "https://localhost:8080/",
          "height": 643
        },
        "id": "xiMz4XZyKQCJ",
        "outputId": "71c2857b-29fc-49c6-c3e1-fe0b1ceb2c1f"
      },
      "execution_count": 34,
      "outputs": [
        {
          "output_type": "stream",
          "name": "stdout",
          "text": [
            "Estado inicial:\n"
          ]
        },
        {
          "output_type": "display_data",
          "data": {
            "text/plain": [
              "<Figure size 432x288 with 2 Axes>"
            ],
            "image/png": "[encoded data removed]"
          },
          "metadata": {
            "needs_background": "light"
          }
        },
        {
          "output_type": "stream",
          "name": "stdout",
          "text": [
            "--------------A*------------\n",
            "Action sequence: ['move-5,4', 'move-4,3', 'move-3,2', 'move-2,1', 'move-1,0', 'move-0,0']\n",
            "State sequence: [5,5, 5,4, 4,3, 3,2, 2,1, 1,0, 0,0]\n",
            "Costo: 6\n",
            "Nodos expandidos 6\n",
            "Estado final:\n"
          ]
        },
        {
          "output_type": "display_data",
          "data": {
            "text/plain": [
              "<Figure size 432x288 with 2 Axes>"
            ],
            "image/png": "[encoded data removed]"
          },
          "metadata": {
            "needs_background": "light"
          }
        }
      ]
    },
    {
      "cell_type": "code",
      "source": [
        "metodos=['UCS','Voraz','A*']\n",
        "nodos=[24,6,6]\n",
        "fig, ax = plt.subplots()\n",
        "ax.set_ylabel('Cantidad')\n",
        "ax.set_title('Cantidad de nodos expandidos')\n",
        "plt.bar(metodos, nodos)\n",
        "plt.show()\n"
      ],
      "metadata": {
        "colab": {
          "base_uri": "https://localhost:8080/",
          "height": 281
        },
        "id": "HGlV1s7xhrUg",
        "outputId": "c439f6ff-41f8-40c8-9b1e-9d51a46712a6"
      },
      "execution_count": 149,
      "outputs": [
        {
          "output_type": "display_data",
          "data": {
            "text/plain": [
              "<Figure size 432x288 with 1 Axes>"
            ],
            "image/png": "[encoded data removed]"
          },
          "metadata": {
            "needs_background": "light"
          }
        }
      ]
    },
    {
      "cell_type": "markdown",
      "source": [
        "# Punto 3: Modelado para el usuario"
      ],
      "metadata": {
        "id": "gnOOgwq8MLL5"
      }
    },
    {
      "cell_type": "code",
      "source": [
        "global celdasX\n",
        "global celdasY\n",
        "\n",
        "class laberintoGeneral(SearchProblem):\n",
        "  'Simple Graph as a search problem'\n",
        "\n",
        "  def actions(self, node):\n",
        "\n",
        "    posicion=list()\n",
        "    movimientos=list()\n",
        "    frontera=list()\n",
        "      \n",
        "    posicion=node.state.split(',')\n",
        "    posicion[0]=int(posicion[0]) #X\n",
        "    posicion[1]=int(posicion[1]) #Y\n",
        "\n",
        "    movimientos=[[-1,-1],[ 0,-1],[1,-1],\n",
        "                  [-1, 0],        [1, 0],\n",
        "                  [-1, 1],[ 0, 1],[1, 1]]\n",
        "\n",
        "    if posicion not in estados_visitados:\n",
        "      res=1\n",
        "      estados_visitados.append(posicion)\n",
        "    else:\n",
        "      res=0\n",
        "    \n",
        "    if res==1:\n",
        "      for i in range(len(movimientos)):\n",
        "\n",
        "        X=posicion[0]+movimientos[i][0]\n",
        "        Y=posicion[1]+movimientos[i][1]\n",
        "        mov=[X,Y]\n",
        "\n",
        "        if mov not in obstaculos:\n",
        "          if 0<=X<int(celdasX) and 0<=Y<int(celdasY):\n",
        "            data='move-'+str(X)+','+str(Y)\n",
        "            if(data not in frontera):\n",
        "              frontera.append(data)\n",
        "    else:\n",
        "      frontera=[]\n",
        "    \n",
        "    actions = {\n",
        "                node.state: frontera,\n",
        "        }\n",
        "    return actions[node.state]       \n",
        "\n",
        "  def result(self, node, action):\n",
        "\n",
        "    new_state=dict()\n",
        "    action_result=action[5:]\n",
        "    \n",
        "    for i in action:\n",
        "      new_state[action]=action_result\n",
        "\n",
        "    new_node = Node(new_state[action], node, action)\n",
        "    new_cost = self.action_cost(node,action,new_node)\n",
        "    new_node.cost = new_cost\n",
        "    return new_node     \n",
        "\n",
        "  def action_cost(self, node, action, succesor):\n",
        "    cost=dict()\n",
        "    cost[node.state,succesor.state]=1\n",
        "\n",
        "    return cost[(node.state, succesor.state)]\n",
        "\n",
        "  def h(self, node):\n",
        "    heuristic=dict()\n",
        "\n",
        "    goal=[0,0]\n",
        "    posicion=node.state.split(',')\n",
        "    posicion[0]=int(posicion[0]) #X\n",
        "    posicion[1]=int(posicion[1]) #Y\n",
        "\n",
        "    Euclidiana=math.sqrt((abs(-posicion[0]+goal[0])**2)+abs((-posicion[1]+goal[1])**2))\n",
        "    heuristic[node.state]=Euclidiana\n",
        "    return heuristic[node.state]  "
      ],
      "metadata": {
        "id": "rPkCqI1-MUqy"
      },
      "execution_count": 155,
      "outputs": []
    },
    {
      "cell_type": "code",
      "source": [
        "data=list()\n",
        "obstaculos.clear()\n",
        "\n",
        "print(\"Digite el numero de celdas en X\")\n",
        "celdasX=input()\n",
        "print(\"Digite el numero de celdas en Y\")\n",
        "celdasY=input()\n",
        "\n",
        "i=1\n",
        "\n",
        "while i!=0:\n",
        "  print(\"Digite la coordenada X del punto objetivo\")\n",
        "  inicioX=input()\n",
        "  print(\"Digite la coordenada Y del punto objetivo\")\n",
        "  inicioY=input()\n",
        "\n",
        "  if int(celdasX)-1>= int(inicioX) and int(celdasY)-1>= int(inicioY):\n",
        "    i=0\n",
        "  else:\n",
        "    print('coordenadas invalidas, digite de nuevo, debe estar dentro del rango')\n",
        "\n",
        "initial=inicioX+\",\"+inicioY\n",
        "goal='0,0'\n",
        "print(\"Su punto de inicio es:\",initial,\" el objetivo es \",goal)\n",
        "\n",
        "for i in range(int(celdasY)):\n",
        "  data.append([100]*int(celdasX))\n",
        "\n",
        "listaGoal=goal.split(',')\n",
        "listaGoal[0]=int(listaGoal[0])#x\n",
        "listaGoal[1]=int(listaGoal[1])#Y\n",
        "data[listaGoal[1]][listaGoal[0]]=0\n",
        "\n",
        "listaInitial=initial.split(',')\n",
        "listaInitial[0]=int(listaInitial[0])#x\n",
        "listaInitial[1]=int(listaInitial[1])#Y\n",
        "\n",
        "data[listaInitial[1]][listaInitial[0]]=0\n",
        "\n",
        "hm = sn.heatmap(data) \n",
        "plt.show()\n",
        "\n",
        "print(\"el numero maximo de obstaculos es:\",int(celdasX)*int(celdasY)-2)\n",
        "print(\"diga el porcentaje de obstaculos que quiere tener, evite usar %\")\n",
        "print(\"se recomienda usar un porcentaje menor al 50%\")\n",
        "obs=input()\n",
        "\n",
        "numeroobj=(int(celdasX)*int(celdasY)-2)*(int(obs)/100)\n",
        "print(\"se generaran: \",int(numeroobj), \"obstaculos\")\n",
        "\n",
        "i=0\n",
        "while i <= numeroobj:\n",
        "  obsX=random.randint(0, int(celdasX)-1)\n",
        "  obsY=random.randint(0, int(celdasY)-1)\n",
        "\n",
        "  \n",
        "  obs=[obsX,obsY]\n",
        "\n",
        "  if obs not in obstaculos and obs!=listaInitial and obs!=listaGoal:\n",
        "    obstaculos.append(obs)\n",
        "    i=i+1\n",
        "\n",
        "    \n",
        "\n",
        "print(obstaculos)\n",
        "for j in range(len(obstaculos)):\n",
        "  data[obstaculos[j][1]][obstaculos[j][0]]=80\n",
        "\n",
        "print('problema inicial:')\n",
        "hm = sn.heatmap(data) \n",
        "plt.show()\n",
        "\n",
        "\n"
      ],
      "metadata": {
        "colab": {
          "base_uri": "https://localhost:8080/",
          "height": 799
        },
        "id": "U7gIfDYIMved",
        "outputId": "cf7bf18c-2441-43f4-d8ca-84746f082539"
      },
      "execution_count": 156,
      "outputs": [
        {
          "output_type": "stream",
          "name": "stdout",
          "text": [
            "Digite el numero de celdas en X\n",
            "9\n",
            "Digite el numero de celdas en Y\n",
            "6\n",
            "Digite la coordenada X del punto objetivo\n",
            "6\n",
            "Digite la coordenada Y del punto objetivo\n",
            "5\n",
            "Su punto de inicio es: 6,5  el objetivo es  0,0\n"
          ]
        },
        {
          "output_type": "display_data",
          "data": {
            "text/plain": [
              "<Figure size 432x288 with 2 Axes>"
            ],
            "image/png": "[encoded data removed]"
          },
          "metadata": {
            "needs_background": "light"
          }
        },
        {
          "output_type": "stream",
          "name": "stdout",
          "text": [
            "el numero maximo de obstaculos es: 52\n",
            "diga el porcentaje de obstaculos que quiere tener, evite usar %\n",
            "se recomienda usar un porcentaje menor al 50%\n",
            "40\n",
            "se generaran:  20 obstaculos\n",
            "[[3, 0], [2, 3], [8, 0], [4, 0], [3, 4], [0, 3], [5, 0], [0, 4], [8, 4], [2, 2], [4, 4], [7, 1], [7, 3], [7, 2], [1, 1], [1, 5], [0, 5], [1, 4], [2, 4], [6, 0], [0, 1]]\n",
            "problema inicial:\n"
          ]
        },
        {
          "output_type": "display_data",
          "data": {
            "text/plain": [
              "<Figure size 432x288 with 2 Axes>"
            ],
            "image/png": "[encoded data removed]"
          },
          "metadata": {
            "needs_background": "light"
          }
        }
      ]
    },
    {
      "cell_type": "code",
      "source": [
        "S = Node(state=initial)\n",
        "G = Node(state=goal)\n",
        "Problema = laberintoGeneral(initial=S, goal=G)\n",
        "estados_visitados.clear()\n",
        "\n",
        "print('--------------UCS------------')\n",
        "solution = UCS(Problema)\n",
        "print('Action sequence:', solution.actions_path())\n",
        "print('State sequence:', solution.states_path())\n",
        "print('Costo:', Problema.g(solution))\n",
        "NodosU=len(estados_visitados)\n",
        "print('Nodos expandidos',NodosU)\n",
        "\n",
        "#---------------------Visualizacion solucion del problema--------------#\n",
        "for h in range(len(solution.states_path())):\n",
        "  if h!=0 and h!=len(solution.states_path())-1:\n",
        "    pos=str(solution.states_path()[h])\n",
        "    x=int(pos[0])\n",
        "    y=int(pos[2])\n",
        "    data[y][x]=30\n",
        "print(\"Estado final:\")\n",
        "hm = sn.heatmap(data = data) \n",
        "plt.show()"
      ],
      "metadata": {
        "colab": {
          "base_uri": "https://localhost:8080/",
          "height": 373
        },
        "id": "FFhoVJgAgCUO",
        "outputId": "be212faf-fc6d-4d19-f2d0-240f1e9d0c63"
      },
      "execution_count": 157,
      "outputs": [
        {
          "output_type": "stream",
          "name": "stdout",
          "text": [
            "--------------UCS------------\n",
            "Action sequence: ['move-5,4', 'move-4,3', 'move-3,2', 'move-2,1', 'move-1,0', 'move-0,0']\n",
            "State sequence: [6,5, 5,4, 4,3, 3,2, 2,1, 1,0, 0,0]\n",
            "Costo: 6\n",
            "Nodos expandidos 30\n",
            "Estado final:\n"
          ]
        },
        {
          "output_type": "display_data",
          "data": {
            "text/plain": [
              "<Figure size 432x288 with 2 Axes>"
            ],
            "image/png": "[encoded data removed]"
          },
          "metadata": {
            "needs_background": "light"
          }
        }
      ]
    },
    {
      "cell_type": "code",
      "source": [
        "S = Node(state=initial)\n",
        "G = Node(state=goal)\n",
        "Problema = laberintoGeneral(initial=S, goal=G)\n",
        "estados_visitados.clear()\n",
        "\n",
        "print('--------------VORAZ------------')\n",
        "solution = VORAZ(Problema)\n",
        "print('Action sequence:', solution.actions_path())\n",
        "print('State sequence:', solution.states_path())\n",
        "print('Costo:', Problema.g(solution))\n",
        "NodosV=len(estados_visitados)\n",
        "print('Nodos expandidos',NodosV)\n",
        "\n",
        "#---------------------Visualizacion solucion del problema--------------#\n",
        "for h in range(len(solution.states_path())):\n",
        "  if h!=0 and h!=len(solution.states_path())-1:\n",
        "    pos=str(solution.states_path()[h])\n",
        "    x=int(pos[0])\n",
        "    y=int(pos[2])\n",
        "    data[y][x]=30\n",
        "print(\"Estado final:\")\n",
        "hm = sn.heatmap(data = data) \n",
        "plt.show()"
      ],
      "metadata": {
        "colab": {
          "base_uri": "https://localhost:8080/",
          "height": 373
        },
        "id": "ouLciP7pgTMa",
        "outputId": "16f4ec43-26d9-4ffb-9d7c-669d7c31ee96"
      },
      "execution_count": 158,
      "outputs": [
        {
          "output_type": "stream",
          "name": "stdout",
          "text": [
            "--------------VORAZ------------\n",
            "Action sequence: ['move-5,4', 'move-4,3', 'move-3,2', 'move-2,1', 'move-1,0', 'move-0,0']\n",
            "State sequence: [6,5, 5,4, 4,3, 3,2, 2,1, 1,0, 0,0]\n",
            "Costo: 6\n",
            "Nodos expandidos 6\n",
            "Estado final:\n"
          ]
        },
        {
          "output_type": "display_data",
          "data": {
            "text/plain": [
              "<Figure size 432x288 with 2 Axes>"
            ],
            "image/png": "[encoded data removed]"
          },
          "metadata": {
            "needs_background": "light"
          }
        }
      ]
    },
    {
      "cell_type": "code",
      "source": [
        "S = Node(state=initial)\n",
        "G = Node(state=goal)\n",
        "Problema = laberintoGeneral(initial=S, goal=G)\n",
        "estados_visitados.clear()\n",
        "\n",
        "print('--------------A*------------')\n",
        "solution = A(Problema)\n",
        "print('Action sequence:', solution.actions_path())\n",
        "print('State sequence:', solution.states_path())\n",
        "print('Costo:', Problema.g(solution))\n",
        "NodosA=len(estados_visitados)\n",
        "print('Nodos expandidos',NodosA)\n",
        "\n",
        "#---------------------Visualizacion solucion del problema--------------#\n",
        "for h in range(len(solution.states_path())):\n",
        "  if h!=0 and h!=len(solution.states_path())-1:\n",
        "    pos=str(solution.states_path()[h])\n",
        "    x=int(pos[0])\n",
        "    y=int(pos[2])\n",
        "    data[y][x]=30\n",
        "print(\"Estado final:\")\n",
        "hm = sn.heatmap(data = data) \n",
        "plt.show()"
      ],
      "metadata": {
        "colab": {
          "base_uri": "https://localhost:8080/",
          "height": 373
        },
        "id": "6EBKffMXgmlk",
        "outputId": "20870aff-aad8-41db-8959-dafd921ce0df"
      },
      "execution_count": 159,
      "outputs": [
        {
          "output_type": "stream",
          "name": "stdout",
          "text": [
            "--------------A*------------\n",
            "Action sequence: ['move-5,4', 'move-4,3', 'move-3,2', 'move-2,1', 'move-1,0', 'move-0,0']\n",
            "State sequence: [6,5, 5,4, 4,3, 3,2, 2,1, 1,0, 0,0]\n",
            "Costo: 6\n",
            "Nodos expandidos 6\n",
            "Estado final:\n"
          ]
        },
        {
          "output_type": "display_data",
          "data": {
            "text/plain": [
              "<Figure size 432x288 with 2 Axes>"
            ],
            "image/png": "[encoded data removed]"
          },
          "metadata": {
            "needs_background": "light"
          }
        }
      ]
    },
    {
      "cell_type": "code",
      "source": [
        "metodos=['UCS','Voraz','A*']\n",
        "nodos=[NodosU,NodosV,NodosA]\n",
        "fig, ax = plt.subplots()\n",
        "ax.set_ylabel('Cantidad')\n",
        "ax.set_title('Cantidad de nodos expandidos')\n",
        "plt.bar(metodos, nodos)\n",
        "plt.show()"
      ],
      "metadata": {
        "colab": {
          "base_uri": "https://localhost:8080/",
          "height": 281
        },
        "id": "tXBjHNZpi_lr",
        "outputId": "0f322290-bd99-45ad-a1cb-245d4e08ee8d"
      },
      "execution_count": 160,
      "outputs": [
        {
          "output_type": "display_data",
          "data": {
            "text/plain": [
              "<Figure size 432x288 with 1 Axes>"
            ],
            "image/png": "[encoded data removed]"
          },
          "metadata": {
            "needs_background": "light"
          }
        }
      ]
    }
  ]
}